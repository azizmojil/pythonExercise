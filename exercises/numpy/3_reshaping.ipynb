{
 "cells": [
  {
   "metadata": {},
   "cell_type": "markdown",
   "source": [
    "## Exercise 2: Array Attributes ##\n",
    "Create the following variables:\n",
    "1. ndim  = number of dimensions of arr\n",
    "2. shape = shape of arr\n",
    "3. size  = total number of elements in arr\n",
    "\n"
   ],
   "id": "441a4a9ba22b771b"
  },
  {
   "metadata": {},
   "cell_type": "code",
   "source": "import numpy as np",
   "id": "de64fe81dacbd6d3",
   "outputs": [],
   "execution_count": null
  },
  {
   "metadata": {},
   "cell_type": "code",
   "source": [
    "arr = np.arange(12).reshape(3, 4)\n",
    "\n",
    "## YOUR CODE HERE ##\n",
    "\n",
    "ndim =\n",
    "shape =\n",
    "size ="
   ],
   "id": "fea8986d83112878",
   "outputs": [],
   "execution_count": null
  },
  {
   "metadata": {},
   "cell_type": "markdown",
   "source": "This cell checks whether the variables have been defined correctly.\n",
   "id": "1e5c608f179fa2b0"
  },
  {
   "metadata": {},
   "cell_type": "code",
   "source": [
    "assert ndim == arr.ndim, f\"ndim should be {arr.ndim}, got {ndim}\"\n",
    "assert shape == arr.shape, f\"shape should be {arr.shape}, got {shape}\"\n",
    "assert size == arr.size, f\"size should be {arr.size}, got {size}\"\n",
    "print(\"✅ Exercise passed!\")"
   ],
   "id": "12d5c8aa9d00f85a",
   "outputs": [],
   "execution_count": null
  }
 ],
 "metadata": {
  "kernelspec": {
   "display_name": "Python 3",
   "language": "python",
   "name": "python3"
  },
  "language_info": {
   "codemirror_mode": {
    "name": "ipython",
    "version": 2
   },
   "file_extension": ".py",
   "mimetype": "text/x-python",
   "name": "python",
   "nbconvert_exporter": "python",
   "pygments_lexer": "ipython2",
   "version": "2.7.6"
  }
 },
 "nbformat": 4,
 "nbformat_minor": 5
}
