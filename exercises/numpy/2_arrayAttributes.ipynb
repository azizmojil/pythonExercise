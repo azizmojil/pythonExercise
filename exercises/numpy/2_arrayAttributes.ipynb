{
 "cells": [
  {
   "metadata": {},
   "cell_type": "markdown",
   "source": [
    "### Exercise 1: Creating NumPy Arrays\n",
    "Create the following:\n",
    "1. Create a 1D array named arr1 containing the values [1, 2, 3, 4, 5].\n",
    "2. Create a 2D array named arr2 of shape (2, 3) containing the integers from 1 through 6 in row-major order."
   ],
   "id": "441a4a9ba22b771b"
  },
  {
   "metadata": {
    "ExecuteTime": {
     "end_time": "2025-05-26T09:03:12.054550Z",
     "start_time": "2025-05-26T09:03:11.671762Z"
    }
   },
   "cell_type": "code",
   "source": "import numpy as np",
   "id": "de64fe81dacbd6d3",
   "outputs": [],
   "execution_count": 1
  },
  {
   "metadata": {},
   "cell_type": "code",
   "source": "## YOUR CODE HERE ##",
   "id": "fea8986d83112878",
   "outputs": [],
   "execution_count": null
  },
  {
   "metadata": {},
   "cell_type": "markdown",
   "source": "This cell checks whether the arrays have been defined correctly.\n",
   "id": "1e5c608f179fa2b0"
  },
  {
   "metadata": {},
   "cell_type": "code",
   "source": [
    "assert isinstance(arr1, np.ndarray), \"arr1 should be a NumPy array\"\n",
    "assert isinstance(arr2, np.ndarray), \"arr2 should be a NumPy array\"\n",
    "assert arr1.shape == (5,), f\"arr1 should have shape (5,), got {arr1.shape}\"\n",
    "assert arr2.shape == (2, 3), f\"arr2 should have shape (2, 3), got {arr2.shape}\"\n",
    "assert np.array_equal(arr1, expected1), f\"arr1 should be {expected1}, got {arr1}\"\n",
    "assert np.array_equal(arr2, expected2), f\"arr2 should be\\n{expected2}\\ngot\\n{arr2}\"\n",
    "\n",
    "print(\"✅ Exercise passed!\")"
   ],
   "id": "12d5c8aa9d00f85a",
   "outputs": [],
   "execution_count": null
  }
 ],
 "metadata": {
  "kernelspec": {
   "display_name": "Python 3",
   "language": "python",
   "name": "python3"
  },
  "language_info": {
   "codemirror_mode": {
    "name": "ipython",
    "version": 2
   },
   "file_extension": ".py",
   "mimetype": "text/x-python",
   "name": "python",
   "nbconvert_exporter": "python",
   "pygments_lexer": "ipython2",
   "version": "2.7.6"
  }
 },
 "nbformat": 4,
 "nbformat_minor": 5
}
