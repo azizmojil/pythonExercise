{
 "cells": [
  {
   "metadata": {},
   "cell_type": "markdown",
   "source": [
    "### Exercise 4: Indexing & Slicing\n",
    "Assign the following:\n",
    "1. elem      = the second element of arr\n",
    "2. slice_01  = the first three elements of arr\n",
    "3. slice_12  = the last two elements of arr"
   ],
   "id": "441a4a9ba22b771b"
  },
  {
   "metadata": {},
   "cell_type": "code",
   "source": "import numpy as np",
   "id": "de64fe81dacbd6d3",
   "outputs": [],
   "execution_count": null
  },
  {
   "metadata": {},
   "cell_type": "code",
   "source": [
    "arr = np.array([10, 20, 30, 40, 50])\n",
    "## YOUR CODE HERE ##\n"
   ],
   "id": "fea8986d83112878",
   "outputs": [],
   "execution_count": null
  },
  {
   "metadata": {},
   "cell_type": "markdown",
   "source": "This cell checks whether the variables were assigned correctly.",
   "id": "1e5c608f179fa2b0"
  },
  {
   "metadata": {},
   "cell_type": "code",
   "source": [
    "assert elem == arr[1], f\"elem should be {arr[1]}, got {elem}\"\n",
    "assert np.array_equal(slice_01, arr[:3]), f\"slice_01 should be {arr[:3]}, got {slice_01}\"\n",
    "assert np.array_equal(slice_12, arr[-2:]), f\"slice_12 should be {arr[-2:]}, got {slice_12}\"\n",
    "print(\"✅ Exercise 4 passed!\")\n"
   ],
   "id": "12d5c8aa9d00f85a",
   "outputs": [],
   "execution_count": null
  }
 ],
 "metadata": {
  "kernelspec": {
   "display_name": "Python 3",
   "language": "python",
   "name": "python3"
  },
  "language_info": {
   "codemirror_mode": {
    "name": "ipython",
    "version": 2
   },
   "file_extension": ".py",
   "mimetype": "text/x-python",
   "name": "python",
   "nbconvert_exporter": "python",
   "pygments_lexer": "ipython2",
   "version": "2.7.6"
  }
 },
 "nbformat": 4,
 "nbformat_minor": 5
}
