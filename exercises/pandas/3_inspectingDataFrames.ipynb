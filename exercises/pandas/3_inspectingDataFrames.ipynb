{
 "cells": [
  {
   "metadata": {},
   "cell_type": "markdown",
   "source": [
    "### Exercise 3: Inspecting DataFrames\n",
    "Using the DataFrame, assign the following:\n",
    "\n",
    "1. num_rows, num_cols:  the number of rows and columns in df\n",
    "2. columns:             a list of column names\n",
    "3. first_two:           the first two rows (use .head)\n",
    "4. sepal_mean:          the mean of the \"sepal length (cm)\" column\n",
    "5. target_counts:       a Series of value counts for the \"target\" column"
   ],
   "id": "9aa59c0dcdaf1f81"
  },
  {
   "metadata": {
    "ExecuteTime": {
     "end_time": "2025-05-20T14:03:18.614770Z",
     "start_time": "2025-05-20T14:03:18.253499Z"
    }
   },
   "cell_type": "code",
   "source": "import pandas as pd",
   "id": "86bb94317a68b09a",
   "outputs": [],
   "execution_count": 1
  },
  {
   "metadata": {
    "ExecuteTime": {
     "end_time": "2025-05-20T14:20:51.701045Z",
     "start_time": "2025-05-20T14:20:51.687371Z"
    }
   },
   "cell_type": "code",
   "source": "df = pd.read_csv('C:/Users/lapto/PycharmProjects/PythonExercises/data/iris.csv')",
   "id": "8f4a2e40d74c9a2a",
   "outputs": [],
   "execution_count": 2
  },
  {
   "metadata": {},
   "cell_type": "code",
   "source": "## YOUR CODE HERE ##",
   "id": "777900f4f7a0cb4d",
   "outputs": [],
   "execution_count": null
  },
  {
   "metadata": {},
   "cell_type": "markdown",
   "source": "This cell verifies that the inspections vars are correct.",
   "id": "cd7f1baf136b8c9b"
  },
  {
   "metadata": {},
   "cell_type": "code",
   "outputs": [],
   "execution_count": null,
   "source": [
    "assert (num_rows, num_cols) == df.shape, f\"Expected shape {df.shape}, got {(num_rows,num_cols)}\"\n",
    "assert columns == list(df.columns), f\"Expected columns {list(df.columns)}, got {columns}\"\n",
    "assert first_two.equals(df.head()), \"first_five does not match df.head()\"\n",
    "assert abs(sepal_mean - df['sepal length (cm)'].mean()) < 1e-9, \\\n",
    "    f\"Expected sepal_mean {df['sepal length (cm)'].mean()}, got {sepal_mean}\"\n",
    "assert target_counts.to_dict() == df['target'].value_counts().to_dict(), \\\n",
    "    \"target_counts does not match df['target'].value_counts()\"\n",
    "print(\"✅ DataFrame inspection is correct!\")"
   ],
   "id": "b0135fcb7e516c3f"
  }
 ],
 "metadata": {
  "kernelspec": {
   "display_name": "Python 3",
   "language": "python",
   "name": "python3"
  },
  "language_info": {
   "codemirror_mode": {
    "name": "ipython",
    "version": 2
   },
   "file_extension": ".py",
   "mimetype": "text/x-python",
   "name": "python",
   "nbconvert_exporter": "python",
   "pygments_lexer": "ipython2",
   "version": "2.7.6"
  }
 },
 "nbformat": 4,
 "nbformat_minor": 5
}
