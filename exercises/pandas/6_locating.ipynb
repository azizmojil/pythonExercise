{
 "cells": [
  {
   "metadata": {},
   "cell_type": "markdown",
   "source": [
    "### Exercise 6: .loc vs .iloc\n",
    "\n",
    "\n",
    "1. loc_sel  =   locate the first 5 rows and the columns 'sepal length (cm)' and 'target' using column names.\n",
    "2. iloc_sel =   locate rows5 to 10 of the first two columns using column index."
   ],
   "id": "9aa59c0dcdaf1f81"
  },
  {
   "metadata": {
    "ExecuteTime": {
     "end_time": "2025-05-25T08:49:11.833887Z",
     "start_time": "2025-05-25T08:49:08.494540Z"
    }
   },
   "cell_type": "code",
   "source": "import pandas as pd",
   "id": "86bb94317a68b09a",
   "outputs": [],
   "execution_count": 1
  },
  {
   "metadata": {
    "ExecuteTime": {
     "end_time": "2025-05-25T08:49:11.849879Z",
     "start_time": "2025-05-25T08:49:11.834199Z"
    }
   },
   "cell_type": "code",
   "source": "df = pd.read_csv('C:/Users/lapto/PycharmProjects/PythonExercises/data/iris.csv')",
   "id": "8f4a2e40d74c9a2a",
   "outputs": [],
   "execution_count": 2
  },
  {
   "metadata": {},
   "cell_type": "code",
   "source": "## YOUR CODE HERE ##",
   "id": "777900f4f7a0cb4d",
   "outputs": [],
   "execution_count": null
  },
  {
   "metadata": {},
   "cell_type": "markdown",
   "source": "This cell verifies that the vars were assigned correctly.",
   "id": "cd7f1baf136b8c9b"
  },
  {
   "metadata": {},
   "cell_type": "code",
   "outputs": [],
   "execution_count": null,
   "source": [
    "assert loc_sel.equals(df.loc[0:4, ['sepal length (cm)', 'target']]), \"loc_sel is incorrect\"\n",
    "assert iloc_sel.equals(df.iloc[5:10, 0:2]), \"iloc_sel is incorrect\"\n",
    "print(\"✅ Exercise 6 passed!\")"
   ],
   "id": "b0135fcb7e516c3f"
  }
 ],
 "metadata": {
  "kernelspec": {
   "display_name": "Python 3",
   "language": "python",
   "name": "python3"
  },
  "language_info": {
   "codemirror_mode": {
    "name": "ipython",
    "version": 2
   },
   "file_extension": ".py",
   "mimetype": "text/x-python",
   "name": "python",
   "nbconvert_exporter": "python",
   "pygments_lexer": "ipython2",
   "version": "2.7.6"
  }
 },
 "nbformat": 4,
 "nbformat_minor": 5
}
