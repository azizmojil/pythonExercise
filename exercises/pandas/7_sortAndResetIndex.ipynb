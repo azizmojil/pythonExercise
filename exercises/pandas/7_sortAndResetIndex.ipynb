{
 "cells": [
  {
   "metadata": {},
   "cell_type": "markdown",
   "source": [
    "### Exercise 7: Sorting & Resetting Index\n",
    "Perform the following sorting operations:\n",
    "1. sorted_df = df sorted by 'sepal width (cm)' descending\n",
    "2. reset_df  = sorted_df with its index reset (drop old index)"
   ],
   "id": "9aa59c0dcdaf1f81"
  },
  {
   "metadata": {
    "ExecuteTime": {
     "end_time": "2025-05-25T08:49:11.833887Z",
     "start_time": "2025-05-25T08:49:08.494540Z"
    }
   },
   "cell_type": "code",
   "source": "import pandas as pd",
   "id": "86bb94317a68b09a",
   "outputs": [],
   "execution_count": 1
  },
  {
   "metadata": {
    "ExecuteTime": {
     "end_time": "2025-05-25T08:49:11.849879Z",
     "start_time": "2025-05-25T08:49:11.834199Z"
    }
   },
   "cell_type": "code",
   "source": "df = pd.read_csv('C:/Users/lapto/PycharmProjects/PythonExercises/data/iris.csv')",
   "id": "8f4a2e40d74c9a2a",
   "outputs": [],
   "execution_count": 2
  },
  {
   "metadata": {},
   "cell_type": "code",
   "source": "## YOUR CODE HERE ##",
   "id": "777900f4f7a0cb4d",
   "outputs": [],
   "execution_count": null
  },
  {
   "metadata": {},
   "cell_type": "markdown",
   "source": "This cell verifies that the vars were assigned correctly.",
   "id": "cd7f1baf136b8c9b"
  },
  {
   "metadata": {},
   "cell_type": "code",
   "outputs": [],
   "execution_count": null,
   "source": [
    "assert sorted_df.iloc[0]['sepal width (cm)'] == df['sepal width (cm)'].max(), \"sorted_df not sorted correctly\"\n",
    "assert list(reset_df.index) == list(range(len(reset_df))), \"reset_df index not reset correctly\"\n",
    "print(\"✅ Exercise 7 passed!\")"
   ],
   "id": "b0135fcb7e516c3f"
  }
 ],
 "metadata": {
  "kernelspec": {
   "display_name": "Python 3",
   "language": "python",
   "name": "python3"
  },
  "language_info": {
   "codemirror_mode": {
    "name": "ipython",
    "version": 2
   },
   "file_extension": ".py",
   "mimetype": "text/x-python",
   "name": "python",
   "nbconvert_exporter": "python",
   "pygments_lexer": "ipython2",
   "version": "2.7.6"
  }
 },
 "nbformat": 4,
 "nbformat_minor": 5
}
