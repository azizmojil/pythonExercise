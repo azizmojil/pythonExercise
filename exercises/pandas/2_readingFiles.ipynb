{
 "cells": [
  {
   "metadata": {},
   "cell_type": "markdown",
   "source": [
    "### Exercise 2: Read CSV File\n",
    "Read the CSV and XLSX files 'iris.csv' and 'iris.xlsx' into DataFrames named df_csv and df_xlsx"
   ],
   "id": "9aa59c0dcdaf1f81"
  },
  {
   "metadata": {
    "ExecuteTime": {
     "end_time": "2025-05-20T14:17:53.647959Z",
     "start_time": "2025-05-20T14:17:53.643759Z"
    }
   },
   "cell_type": "code",
   "source": "import pandas as pd",
   "id": "86bb94317a68b09a",
   "outputs": [],
   "execution_count": 2
  },
  {
   "metadata": {
    "ExecuteTime": {
     "end_time": "2025-05-20T14:17:53.961685Z",
     "start_time": "2025-05-20T14:17:53.942898Z"
    }
   },
   "cell_type": "code",
   "source": "## YOUR CODE HERE ##",
   "id": "777900f4f7a0cb4d",
   "outputs": [],
   "execution_count": 3
  },
  {
   "metadata": {},
   "cell_type": "markdown",
   "source": "This cell verifies that the vars are in the correct data type.",
   "id": "cd7f1baf136b8c9b"
  },
  {
   "metadata": {},
   "cell_type": "code",
   "outputs": [],
   "execution_count": null,
   "source": [
    "assert 'df_csv' in globals(), \"DataFrame `df_csv` is not defined\"\n",
    "assert isinstance(df_csv, pd.DataFrame), f\"`df_csv` should be a pandas DataFrame, got {type(df_csv).__name__}\"\n",
    "assert isinstance(df_xlsx, pd.DataFrame), f\"`df_csv` should be a pandas DataFrame, got {type(df_csv).__name__}\"\n",
    "print(\"✅ CSV file read correctly!\")"
   ],
   "id": "b0135fcb7e516c3f"
  }
 ],
 "metadata": {
  "kernelspec": {
   "display_name": "Python 3",
   "language": "python",
   "name": "python3"
  },
  "language_info": {
   "codemirror_mode": {
    "name": "ipython",
    "version": 2
   },
   "file_extension": ".py",
   "mimetype": "text/x-python",
   "name": "python",
   "nbconvert_exporter": "python",
   "pygments_lexer": "ipython2",
   "version": "2.7.6"
  }
 },
 "nbformat": 4,
 "nbformat_minor": 5
}
