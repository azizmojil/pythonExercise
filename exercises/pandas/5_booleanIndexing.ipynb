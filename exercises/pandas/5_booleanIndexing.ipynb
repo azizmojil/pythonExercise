{
 "cells": [
  {
   "metadata": {},
   "cell_type": "markdown",
   "source": [
    "### Exercise 5: Boolean Indexing\n",
    "Assign the following variable with the proper data:\n",
    "1. petal_wide   = rows where 'petal width (cm)' > 1\n",
    "2. setosa_df    = rows where 'target' == 0\n",
    "3. combined_df  = rows where ('petal width (cm)' > 1) & ('sepal length (cm)' > 5)"
   ],
   "id": "9aa59c0dcdaf1f81"
  },
  {
   "metadata": {
    "ExecuteTime": {
     "end_time": "2025-05-20T14:03:18.614770Z",
     "start_time": "2025-05-20T14:03:18.253499Z"
    }
   },
   "cell_type": "code",
   "source": "import pandas as pd",
   "id": "86bb94317a68b09a",
   "outputs": [],
   "execution_count": 1
  },
  {
   "metadata": {
    "ExecuteTime": {
     "end_time": "2025-05-20T14:20:51.701045Z",
     "start_time": "2025-05-20T14:20:51.687371Z"
    }
   },
   "cell_type": "code",
   "source": "df = pd.read_csv('C:/Users/lapto/PycharmProjects/PythonExercises/data/iris.csv')",
   "id": "8f4a2e40d74c9a2a",
   "outputs": [],
   "execution_count": 2
  },
  {
   "metadata": {},
   "cell_type": "code",
   "source": "## YOUR CODE HERE ##",
   "id": "777900f4f7a0cb4d",
   "outputs": [],
   "execution_count": null
  },
  {
   "metadata": {},
   "cell_type": "markdown",
   "source": "This cell verifies that the vars were assigned correctly.",
   "id": "cd7f1baf136b8c9b"
  },
  {
   "metadata": {},
   "cell_type": "code",
   "outputs": [],
   "execution_count": null,
   "source": [
    "assert petal_wide.equals(df[df['petal width (cm)'] > 1]), \"petal_wide is incorrect\"\n",
    "assert setosa_df.equals(df[df['target'] == 0]), \"setosa_df is incorrect\"\n",
    "mask = (df['petal width (cm)'] > 1) & (df['sepal length (cm)'] > 5)\n",
    "assert combined_df.equals(df[mask]), \"combined_df is incorrect\"\n",
    "print(\"✅ Exercise 5 passed!\")"
   ],
   "id": "b0135fcb7e516c3f"
  }
 ],
 "metadata": {
  "kernelspec": {
   "display_name": "Python 3",
   "language": "python",
   "name": "python3"
  },
  "language_info": {
   "codemirror_mode": {
    "name": "ipython",
    "version": 2
   },
   "file_extension": ".py",
   "mimetype": "text/x-python",
   "name": "python",
   "nbconvert_exporter": "python",
   "pygments_lexer": "ipython2",
   "version": "2.7.6"
  }
 },
 "nbformat": 4,
 "nbformat_minor": 5
}
