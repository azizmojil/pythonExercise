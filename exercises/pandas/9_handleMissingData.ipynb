{
 "cells": [
  {
   "metadata": {},
   "cell_type": "markdown",
   "source": [
    "### Exercise 8: Adding & Modifying Columns\n",
    "\n",
    "Add a new column 'sepal_ratio' = sepal length / sepal width, and map 'target' to species names and store in 'species'.\n",
    "\n",
    "mapping: 0 → 'setosa', 1 → 'versicolor', 2 → 'virginica'"
   ],
   "id": "9aa59c0dcdaf1f81"
  },
  {
   "metadata": {
    "ExecuteTime": {
     "end_time": "2025-05-26T08:08:12.349509Z",
     "start_time": "2025-05-26T08:08:08.865662Z"
    }
   },
   "cell_type": "code",
   "source": "import pandas as pd",
   "id": "86bb94317a68b09a",
   "outputs": [],
   "execution_count": 1
  },
  {
   "metadata": {
    "ExecuteTime": {
     "end_time": "2025-05-26T08:08:12.372203Z",
     "start_time": "2025-05-26T08:08:12.350526Z"
    }
   },
   "cell_type": "code",
   "source": "df = pd.read_csv('C:/Users/lapto/PycharmProjects/PythonExercises/data/iris.csv')",
   "id": "8f4a2e40d74c9a2a",
   "outputs": [],
   "execution_count": 2
  },
  {
   "metadata": {},
   "cell_type": "code",
   "source": "## YOUR CODE HERE ##",
   "id": "777900f4f7a0cb4d",
   "outputs": [],
   "execution_count": null
  },
  {
   "metadata": {},
   "cell_type": "markdown",
   "source": "This cell verifies that the cols were created correctly.",
   "id": "cd7f1baf136b8c9b"
  },
  {
   "metadata": {},
   "cell_type": "code",
   "outputs": [],
   "execution_count": null,
   "source": [
    "df_check = pd.read_csv('C:/Users/lapto/PycharmProjects/PythonExercises/data/iris.csv')\n",
    "df_check['sepal_ratio'] = df_check['sepal length (cm)'] / df_check['sepal width (cm)']\n",
    "species_map = {0:'setosa', 1:'versicolor', 2:'virginica'}\n",
    "df_check['species'] = df_check['target'].map(species_map)\n",
    "assert 'sepal_ratio' in df.columns, \"sepal_ratio column missing\"\n",
    "assert all(df['sepal_ratio'] == df_check['sepal_ratio']), \"sepal_ratio values incorrect\"\n",
    "assert all(df['species'] == df_check['species']), \"species mapping incorrect\"\n",
    "print(\"✅ Exercise passed!\")"
   ],
   "id": "b0135fcb7e516c3f"
  }
 ],
 "metadata": {
  "kernelspec": {
   "display_name": "Python 3",
   "language": "python",
   "name": "python3"
  },
  "language_info": {
   "codemirror_mode": {
    "name": "ipython",
    "version": 2
   },
   "file_extension": ".py",
   "mimetype": "text/x-python",
   "name": "python",
   "nbconvert_exporter": "python",
   "pygments_lexer": "ipython2",
   "version": "2.7.6"
  }
 },
 "nbformat": 4,
 "nbformat_minor": 5
}
