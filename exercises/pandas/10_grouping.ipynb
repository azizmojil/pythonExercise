{
 "cells": [
  {
   "metadata": {},
   "cell_type": "markdown",
   "source": [
    "### Exercise 9: Handling Missing Data\n",
    "Perform the following:\n",
    "1. num_missing = count of NaNs in 'sepal width (cm)'\n",
    "2. df_drop     = df_missing with rows having NaN in 'sepal width (cm)' dropped\n",
    "3. df_fill     = 'sepal width (cm)' column filled with its mean (Series or DataFrame slice)"
   ],
   "id": "9aa59c0dcdaf1f81"
  },
  {
   "metadata": {
    "ExecuteTime": {
     "end_time": "2025-05-26T08:08:12.349509Z",
     "start_time": "2025-05-26T08:08:08.865662Z"
    }
   },
   "cell_type": "code",
   "source": "import pandas as pd",
   "id": "86bb94317a68b09a",
   "outputs": [],
   "execution_count": 1
  },
  {
   "metadata": {
    "ExecuteTime": {
     "end_time": "2025-05-26T08:08:12.372203Z",
     "start_time": "2025-05-26T08:08:12.350526Z"
    }
   },
   "cell_type": "code",
   "source": [
    "df = pd.read_csv('C:/Users/lapto/PycharmProjects/PythonExercises/data/iris.csv')\n",
    "df_missing = df.copy()\n",
    "df_missing.loc[3, 'sepal width (cm)'] = None"
   ],
   "id": "8f4a2e40d74c9a2a",
   "outputs": [],
   "execution_count": 2
  },
  {
   "metadata": {},
   "cell_type": "code",
   "source": "## YOUR CODE HERE ##",
   "id": "777900f4f7a0cb4d",
   "outputs": [],
   "execution_count": null
  },
  {
   "metadata": {},
   "cell_type": "markdown",
   "source": "This cell verifies that the cols were created correctly.",
   "id": "cd7f1baf136b8c9b"
  },
  {
   "metadata": {},
   "cell_type": "code",
   "outputs": [],
   "execution_count": null,
   "source": [
    "df_check = pd.read_csv('C:/Users/lapto/PycharmProjects/PythonExercises/data/iris.csv')\n",
    "df_check.loc[3, 'sepal width (cm)'] = None\n",
    "num_missing_true = df_check['sepal width (cm)'].isna().sum()\n",
    "df_drop_true = df_check.dropna(subset=['sepal width (cm)'])\n",
    "df_fill_true = df_check['sepal width (cm)'].fillna(df_check['sepal width (cm)'].mean())\n",
    "\n",
    "assert num_missing == num_missing_true, \"num_missing is incorrect\"\n",
    "assert df_drop.equals(df_drop_true), \"df_drop is incorrect\"\n",
    "if hasattr(df_fill, \"equals\"):\n",
    "    assert df_fill.equals(df_fill_true), \"df_fill is incorrect\"\n",
    "else:\n",
    "    assert all(df_fill == df_fill_true), \"df_fill is incorrect\"\n",
    "print(\"✅ Exercise passed!\")"
   ],
   "id": "b0135fcb7e516c3f"
  }
 ],
 "metadata": {
  "kernelspec": {
   "display_name": "Python 3",
   "language": "python",
   "name": "python3"
  },
  "language_info": {
   "codemirror_mode": {
    "name": "ipython",
    "version": 2
   },
   "file_extension": ".py",
   "mimetype": "text/x-python",
   "name": "python",
   "nbconvert_exporter": "python",
   "pygments_lexer": "ipython2",
   "version": "2.7.6"
  }
 },
 "nbformat": 4,
 "nbformat_minor": 5
}
