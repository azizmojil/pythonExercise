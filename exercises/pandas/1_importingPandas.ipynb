{
 "cells": [
  {
   "metadata": {},
   "cell_type": "markdown",
   "source": [
    "### Exercise 1: Importing Pandas \n",
    "Import the pandas library in three ways; import the library, import the library with alias pd, and only import the class DataFrame."
   ],
   "id": "9aa59c0dcdaf1f81"
  },
  {
   "metadata": {},
   "cell_type": "code",
   "outputs": [],
   "execution_count": null,
   "source": "!pip install pandas",
   "id": "86bb94317a68b09a"
  },
  {
   "metadata": {},
   "cell_type": "code",
   "source": "## ADD YOUR CODE HERE ##",
   "id": "777900f4f7a0cb4d",
   "outputs": [],
   "execution_count": null
  },
  {
   "metadata": {},
   "cell_type": "markdown",
   "source": "This cell verifies that pandas was imported correctly in all three ways",
   "id": "cd7f1baf136b8c9b"
  },
  {
   "metadata": {},
   "cell_type": "code",
   "source": [
    "assert 'pandas' in globals(), \"pandas is not imported\"\n",
    "assert 'pd' in globals(), \"alias pd is not defined\"\n",
    "assert pd is pandas, \"pd should refer to the pandas module\"\n",
    "assert 'DataFrame' in globals(), \"DataFrame is not imported\"\n",
    "assert DataFrame is pandas.DataFrame, \"DataFrame should refer to pandas.DataFrame\"\n",
    "print(\"✅ Pandas imported correctly in all three ways!\")"
   ],
   "id": "788cc74ccefeac07",
   "outputs": [],
   "execution_count": null
  }
 ],
 "metadata": {
  "kernelspec": {
   "display_name": "Python 3",
   "language": "python",
   "name": "python3"
  },
  "language_info": {
   "codemirror_mode": {
    "name": "ipython",
    "version": 2
   },
   "file_extension": ".py",
   "mimetype": "text/x-python",
   "name": "python",
   "nbconvert_exporter": "python",
   "pygments_lexer": "ipython2",
   "version": "2.7.6"
  }
 },
 "nbformat": 4,
 "nbformat_minor": 5
}
