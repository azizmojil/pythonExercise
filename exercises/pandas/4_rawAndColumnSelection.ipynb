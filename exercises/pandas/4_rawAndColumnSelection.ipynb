{
 "cells": [
  {
   "metadata": {},
   "cell_type": "markdown",
   "source": [
    "### Exercise 4: Column & Row Selection\n",
    "Create the following variables:\n",
    "1. col_single:  the 'sepal length (cm)' column (as a Series)\n",
    "2. col_multi:   the 'sepal length (cm)' and 'petal length (cm)' columns (as a DataFrame)\n",
    "3. row_slice:   rows 10 through 19 (inclusive)\n"
   ],
   "id": "9aa59c0dcdaf1f81"
  },
  {
   "metadata": {
    "ExecuteTime": {
     "end_time": "2025-05-20T14:03:18.614770Z",
     "start_time": "2025-05-20T14:03:18.253499Z"
    }
   },
   "cell_type": "code",
   "source": "import pandas as pd",
   "id": "86bb94317a68b09a",
   "outputs": [],
   "execution_count": 1
  },
  {
   "metadata": {
    "ExecuteTime": {
     "end_time": "2025-05-20T14:20:51.701045Z",
     "start_time": "2025-05-20T14:20:51.687371Z"
    }
   },
   "cell_type": "code",
   "source": "df = pd.read_csv('C:/Users/lapto/PycharmProjects/PythonExercises/data/iris.csv')",
   "id": "8f4a2e40d74c9a2a",
   "outputs": [],
   "execution_count": 2
  },
  {
   "metadata": {},
   "cell_type": "code",
   "source": "## YOUR CODE HERE ##",
   "id": "777900f4f7a0cb4d",
   "outputs": [],
   "execution_count": null
  },
  {
   "metadata": {},
   "cell_type": "markdown",
   "source": "This cell verifies that the inspections vars are correct.",
   "id": "cd7f1baf136b8c9b"
  },
  {
   "metadata": {},
   "cell_type": "code",
   "outputs": [],
   "execution_count": null,
   "source": [
    "assert col_single.equals(df['sepal length (cm)']), \"col_single is incorrect\"\n",
    "assert col_multi.equals(df[['sepal length (cm)', 'petal length (cm)']]), \"col_multi is incorrect\"\n",
    "assert row_slice.equals(df[10:20]), \"row_slice is incorrect\"\n",
    "print(\"✅ Exercise 4 passed!\")"
   ],
   "id": "b0135fcb7e516c3f"
  }
 ],
 "metadata": {
  "kernelspec": {
   "display_name": "Python 3",
   "language": "python",
   "name": "python3"
  },
  "language_info": {
   "codemirror_mode": {
    "name": "ipython",
    "version": 2
   },
   "file_extension": ".py",
   "mimetype": "text/x-python",
   "name": "python",
   "nbconvert_exporter": "python",
   "pygments_lexer": "ipython2",
   "version": "2.7.6"
  }
 },
 "nbformat": 4,
 "nbformat_minor": 5
}
