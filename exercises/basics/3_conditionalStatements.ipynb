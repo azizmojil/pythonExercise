{
 "cells": [
  {
   "metadata": {},
   "cell_type": "markdown",
   "source": [
    "### Exercise 5: Conditional Statement – If Only\n",
    "Given the variable num, write an if statement that prints \"Positive\" if num is greater than 0."
   ],
   "id": "27c6c67e8a4c0310"
  },
  {
   "metadata": {},
   "cell_type": "code",
   "source": [
    "num = int(input(\"Enter a number: \"))\n",
    "\n",
    "## YOUR CODE HERE ##"
   ],
   "id": "8374dac6b2285451",
   "outputs": [],
   "execution_count": null
  },
  {
   "metadata": {},
   "cell_type": "markdown",
   "source": [
    "### Conditional Statement – If-Else\n",
    "Given the variable num, write an if-else statement that prints \"Positive\" if num > 0, otherwise prints \"Zero or Negative\"."
   ],
   "id": "1aed83a2e0fc7cdc"
  },
  {
   "metadata": {},
   "cell_type": "code",
   "source": [
    "num = int(input(\"Enter a number: \"))\n",
    "\n",
    "## YOUR CODE HERE ##"
   ],
   "id": "189cb510e456f72e",
   "outputs": [],
   "execution_count": null
  },
  {
   "metadata": {},
   "cell_type": "markdown",
   "source": [
    "### Conditional Statement – If-Elif-Else ##\n",
    "Given the variable num, write an if-elif-else statement that, prints \"Positive\" if num > 0, \"Zero\" if num == 0, and \"Negative\" if num < 0."
   ],
   "id": "905af51712b0465d"
  },
  {
   "metadata": {},
   "cell_type": "code",
   "outputs": [],
   "execution_count": null,
   "source": [
    "def classify_num(num):\n",
    "    \n",
    "    ## ADD YOUR CODE HERE ##\n",
    "    \n",
    "    pass"
   ],
   "id": "b22ed86221ca7b61"
  },
  {
   "metadata": {},
   "cell_type": "markdown",
   "source": "This cell checks whether your conditional statements are correct.",
   "id": "c3ee1fe3f70c5e4"
  },
  {
   "metadata": {},
   "cell_type": "code",
   "outputs": [],
   "execution_count": null,
   "source": [
    "for test_val, expected in [(5, \"Positive\"), (0, \"Zero\"), (-3, \"Negative\")]:\n",
    "    got = classify_num(test_val)\n",
    "    assert got == expected, f\"For num={test_val} expected {expected!r} but got {got!r}\"\n",
    "print(\"✅ Exercise 7 logic is correct!\")"
   ],
   "id": "72cee57f517dbd8e"
  }
 ],
 "metadata": {
  "kernelspec": {
   "display_name": "Python 3",
   "language": "python",
   "name": "python3"
  },
  "language_info": {
   "codemirror_mode": {
    "name": "ipython",
    "version": 2
   },
   "file_extension": ".py",
   "mimetype": "text/x-python",
   "name": "python",
   "nbconvert_exporter": "python",
   "pygments_lexer": "ipython2",
   "version": "2.7.6"
  }
 },
 "nbformat": 4,
 "nbformat_minor": 5
}
