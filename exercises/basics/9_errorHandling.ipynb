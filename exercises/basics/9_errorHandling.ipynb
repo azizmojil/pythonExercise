{
 "cells": [
  {
   "metadata": {},
   "cell_type": "markdown",
   "source": [
    "### Exercise 9: Error Handling with Try/Except\n",
    "Attempt to modify both a list and a tuple. For the list, inside a try/except, assign my_list[0] = 42. If no exception, set list_result = \"Success\". If an exception occurs, set list_result = \"Error\". For the tuple, inside a try/except, assign my_tuple[0] = 42. Catch the TypeError and set tuple_error = \"Error\"."
   ],
   "id": "6973d32e0764788"
  },
  {
   "metadata": {},
   "cell_type": "code",
   "outputs": [],
   "execution_count": null,
   "source": [
    "my_list = [1, 2, 3]\n",
    "my_tuple = (1, 2, 3)\n",
    "\n",
    "## YOUR CODE HERE ##"
   ],
   "id": "afccfc6d46f2de18"
  },
  {
   "metadata": {},
   "cell_type": "code",
   "outputs": [],
   "execution_count": null,
   "source": [
    "assert list_result == \"Success\", f\"list_result should be 'Success', got {list_result!r}\"\n",
    "assert tuple_error== \"Error\", f\"tuple_error should mention 'Error'', got {tuple_error!r}\"\n",
    "print(\"✅ List mutation succeeded and tuple immutability caught correctly!\")"
   ],
   "id": "2d666a965dfb44a9"
  }
 ],
 "metadata": {
  "kernelspec": {
   "display_name": "Python 3",
   "language": "python",
   "name": "python3"
  },
  "language_info": {
   "codemirror_mode": {
    "name": "ipython",
    "version": 2
   },
   "file_extension": ".py",
   "mimetype": "text/x-python",
   "name": "python",
   "nbconvert_exporter": "python",
   "pygments_lexer": "ipython2",
   "version": "2.7.6"
  }
 },
 "nbformat": 4,
 "nbformat_minor": 5
}
