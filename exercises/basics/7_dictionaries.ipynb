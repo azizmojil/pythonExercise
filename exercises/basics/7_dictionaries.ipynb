{
 "cells": [
  {
   "metadata": {},
   "cell_type": "markdown",
   "source": [
    "### Exercise 7: Dictionaries\n",
    "Given the dictionary `data`, add \"orange\" with value 5 and update \"banana\" to 4. Then assign the keys, values, and key-value pairs to variables."
   ],
   "id": "b7408c7262601b67"
  },
  {
   "metadata": {},
   "cell_type": "code",
   "source": [
    "data = {\"apple\": 2, \"banana\": 3}\n",
    "\n",
    "## YOUR CODE HERE ##"
   ],
   "id": "6d24b22e3a88cc3c",
   "outputs": [],
   "execution_count": null
  },
  {
   "metadata": {},
   "cell_type": "code",
   "source": [
    "keys       = ## YOUR CODE HERE ##\n",
    "values     = \n",
    "items_list = \n",
    "\n",
    "\n",
    "print(\"Data:\", data)\n",
    "print(\"Keys:\", keys)\n",
    "print(\"Values:\", values)\n",
    "print(\"Items:\", items_list)"
   ],
   "id": "6e383ced72e40800",
   "outputs": [],
   "execution_count": null
  },
  {
   "metadata": {},
   "cell_type": "markdown",
   "source": "This cell verifies your dictionary operations.",
   "id": "34dca110d9fa895d"
  },
  {
   "metadata": {},
   "cell_type": "code",
   "source": [
    "expected = {\"apple\": 2, \"banana\": 4, \"orange\": 5}\n",
    "assert data == expected, f\"data should be {expected}, got {data}\"\n",
    "assert set(keys) == set(expected.keys()), f\"keys should be {list(expected.keys())}, got {keys}\"\n",
    "assert set(values) == set(expected.values()), f\"values should be {list(expected.values())}, got {values}\"\n",
    "assert set(items_list) == set(expected.items()), f\"items_list should be {list(expected.items())}, got {items_list}\"\n",
    "print(\"✅ Dictionary operations are correct!\")"
   ],
   "id": "f5e8c75b0e93588f",
   "outputs": [],
   "execution_count": null
  }
 ],
 "metadata": {
  "kernelspec": {
   "display_name": "Python 3",
   "language": "python",
   "name": "python3"
  },
  "language_info": {
   "codemirror_mode": {
    "name": "ipython",
    "version": 2
   },
   "file_extension": ".py",
   "mimetype": "text/x-python",
   "name": "python",
   "nbconvert_exporter": "python",
   "pygments_lexer": "ipython2",
   "version": "2.7.6"
  }
 },
 "nbformat": 4,
 "nbformat_minor": 5
}
