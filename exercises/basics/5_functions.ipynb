{
 "cells": [
  {
   "metadata": {},
   "cell_type": "markdown",
   "source": [
    "### Exercise 5: Functions\n",
    "Define a function named `square` that takes one argument `x` and returns x squared."
   ],
   "id": "b7408c7262601b67"
  },
  {
   "metadata": {},
   "cell_type": "code",
   "outputs": [],
   "execution_count": null,
   "source": [
    "def square(x):\n",
    "    ## YOUR CODE HERE ##\n"
   ],
   "id": "ba03b279d4e72ea3"
  },
  {
   "metadata": {},
   "cell_type": "markdown",
   "source": "This cell checks whether your function works as intended.",
   "id": "34dca110d9fa895d"
  },
  {
   "metadata": {},
   "cell_type": "code",
   "outputs": [],
   "execution_count": null,
   "source": [
    "assert square(0) == 0, f\"square(0) should be 0, got {square(0)}\"\n",
    "assert square(3) == 9, f\"square(3) should be 9, got {square(3)}\"\n",
    "assert square(-4) == 16, f\"square(-4) should be 16, got {square(-4)}\"\n",
    "print(\"✅ square function is correct!\")"
   ],
   "id": "f5e8c75b0e93588f"
  }
 ],
 "metadata": {
  "kernelspec": {
   "display_name": "Python 3",
   "language": "python",
   "name": "python3"
  },
  "language_info": {
   "codemirror_mode": {
    "name": "ipython",
    "version": 2
   },
   "file_extension": ".py",
   "mimetype": "text/x-python",
   "name": "python",
   "nbconvert_exporter": "python",
   "pygments_lexer": "ipython2",
   "version": "2.7.6"
  }
 },
 "nbformat": 4,
 "nbformat_minor": 5
}
