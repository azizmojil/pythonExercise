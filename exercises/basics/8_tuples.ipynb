{
 "cells": [
  {
   "metadata": {},
   "cell_type": "markdown",
   "source": [
    "### Exercise 8: Tuple Unpacking\n",
    "Unpack coords into variables x, y, z."
   ],
   "id": "bf35b40325e3a3ca"
  },
  {
   "metadata": {},
   "cell_type": "code",
   "source": [
    "coords = (10, 20, 30)\n",
    "\n",
    "## ADD YOUR CODE HERE ##\n",
    "\n",
    "print(\"x =\", x)\n",
    "print(\"y =\", y)\n",
    "print(\"z =\", z)"
   ],
   "id": "9447276fac4e157f",
   "outputs": [],
   "execution_count": null
  },
  {
   "metadata": {},
   "cell_type": "markdown",
   "source": "This cell verifies that you've unpacked correctly.",
   "id": "34dca110d9fa895d"
  },
  {
   "metadata": {},
   "cell_type": "code",
   "source": [
    "assert x == 10, f\"x should be 10, got {x}\"\n",
    "assert y == 20, f\"y should be 20, got {y}\"\n",
    "assert z == 30, f\"z should be 30, got {z}\"\n",
    "print(\"✅ Tuple unpacking is correct!\")"
   ],
   "id": "f5e8c75b0e93588f",
   "outputs": [],
   "execution_count": null
  }
 ],
 "metadata": {
  "kernelspec": {
   "display_name": "Python 3",
   "language": "python",
   "name": "python3"
  },
  "language_info": {
   "codemirror_mode": {
    "name": "ipython",
    "version": 2
   },
   "file_extension": ".py",
   "mimetype": "text/x-python",
   "name": "python",
   "nbconvert_exporter": "python",
   "pygments_lexer": "ipython2",
   "version": "2.7.6"
  }
 },
 "nbformat": 4,
 "nbformat_minor": 5
}
