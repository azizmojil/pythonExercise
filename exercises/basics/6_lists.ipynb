{
 "cells": [
  {
   "metadata": {},
   "cell_type": "markdown",
   "source": [
    "### Exercise 6: Lists\n",
    "Given the list `numbers`, append 4, remove 2, then assign the modified list to `numbers`, assign the length of the list to `length`, and assign the first two elements (a slice) to `first_two`."
   ],
   "id": "b7408c7262601b67"
  },
  {
   "metadata": {},
   "cell_type": "code",
   "outputs": [],
   "execution_count": null,
   "source": [
    "numbers = [1, 2, 3]\n",
    "\n",
    "## ADD YOUR CODE HERE ##\n",
    "\n",
    "\n",
    "print(\"Modified list:\", numbers)\n",
    "print(\"Length:\", length)\n",
    "print(\"First two elements:\", first_two)"
   ],
   "id": "ba03b279d4e72ea3"
  },
  {
   "metadata": {},
   "cell_type": "markdown",
   "source": "This cell checks whether you've created the required variables.",
   "id": "34dca110d9fa895d"
  },
  {
   "metadata": {},
   "cell_type": "code",
   "outputs": [],
   "execution_count": null,
   "source": [
    "assert numbers == [1, 3, 4], f\"numbers should be [1, 3, 4], got {numbers}\"\n",
    "assert length == 3, f\"length should be 3, got {length}\"\n",
    "assert first_two == [1, 3], f\"first_two should be [1, 3], got {first_two}\"\n",
    "print(\"✅ List operations are correct!\")"
   ],
   "id": "f5e8c75b0e93588f"
  }
 ],
 "metadata": {
  "kernelspec": {
   "display_name": "Python 3",
   "language": "python",
   "name": "python3"
  },
  "language_info": {
   "codemirror_mode": {
    "name": "ipython",
    "version": 2
   },
   "file_extension": ".py",
   "mimetype": "text/x-python",
   "name": "python",
   "nbconvert_exporter": "python",
   "pygments_lexer": "ipython2",
   "version": "2.7.6"
  }
 },
 "nbformat": 4,
 "nbformat_minor": 5
}
