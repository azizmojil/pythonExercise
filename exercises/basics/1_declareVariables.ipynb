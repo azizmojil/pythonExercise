{
 "cells": [
  {
   "metadata": {},
   "cell_type": "markdown",
   "source": [
    "### Exercise 1: Variables and Data Types\n",
    "Declare a string, int, float, and boolean variable to practice Python basics."
   ],
   "id": "441a4a9ba22b771b"
  },
  {
   "metadata": {
    "jupyter": {
     "is_executing": true
    }
   },
   "cell_type": "code",
   "source": [
    "str_var = \"Alice\"\n",
    "int_var = 10\n",
    "float_var = 10.0\n",
    "bool_var = True"
   ],
   "id": "fea8986d83112878",
   "outputs": [],
   "execution_count": null
  },
  {
   "metadata": {},
   "cell_type": "markdown",
   "source": "This cell checks whether your variables have been defined with the correct types.\n",
   "id": "1e5c608f179fa2b0"
  },
  {
   "metadata": {},
   "cell_type": "code",
   "outputs": [],
   "execution_count": null,
   "source": [
    "assert isinstance(str_var, str), f\"str_var should be a string, not {type(str_var)}\"\n",
    "assert isinstance(int_var, int), f\"int_var should be an int, not {type(int_var)}\"\n",
    "assert isinstance(float_var, float), f\"float_var should be a float, not {type(float_var)}\"\n",
    "assert isinstance(bool_var, bool), f\"bool_var should be a bool, not {type(bool_var)}\"\n",
    "print(\"✅ All variable types are correct!\")"
   ],
   "id": "12d5c8aa9d00f85a"
  }
 ],
 "metadata": {
  "kernelspec": {
   "display_name": "Python 3",
   "language": "python",
   "name": "python3"
  },
  "language_info": {
   "codemirror_mode": {
    "name": "ipython",
    "version": 2
   },
   "file_extension": ".py",
   "mimetype": "text/x-python",
   "name": "python",
   "nbconvert_exporter": "python",
   "pygments_lexer": "ipython2",
   "version": "2.7.6"
  }
 },
 "nbformat": 4,
 "nbformat_minor": 5
}
