{
 "cells": [
  {
   "metadata": {},
   "cell_type": "markdown",
   "source": [
    "### Exercise 4: For Loop\n",
    "Compute the sum of numbers from 1 to n (inclusive) using a for loop."
   ],
   "id": "b7408c7262601b67"
  },
  {
   "metadata": {},
   "cell_type": "code",
   "outputs": [],
   "execution_count": null,
   "source": [
    "n = 10\n",
    "sum_result = 0\n",
    "\n",
    "## YOUR CODE HERE ##\n",
    "\n",
    "print(\"Sum from 1 to\", n, \"=\", sum_result)"
   ],
   "id": "ba03b279d4e72ea3"
  },
  {
   "metadata": {},
   "cell_type": "markdown",
   "source": "This cell checks whether your loop and operation are correct.\n",
   "id": "ab8ae2de5abcb02a"
  },
  {
   "metadata": {},
   "cell_type": "code",
   "outputs": [],
   "execution_count": null,
   "source": [
    "assert sum_result == sum(range(1, n+1)), \\\n",
    "    f\"sum_result should be {sum(range(1, n+1))}, got {sum_result}\"\n",
    "print(\"✅ For-loop sum is correct!\")"
   ],
   "id": "f5e8c75b0e93588f"
  }
 ],
 "metadata": {
  "kernelspec": {
   "display_name": "Python 3",
   "language": "python",
   "name": "python3"
  },
  "language_info": {
   "codemirror_mode": {
    "name": "ipython",
    "version": 2
   },
   "file_extension": ".py",
   "mimetype": "text/x-python",
   "name": "python",
   "nbconvert_exporter": "python",
   "pygments_lexer": "ipython2",
   "version": "2.7.6"
  }
 },
 "nbformat": 4,
 "nbformat_minor": 5
}
