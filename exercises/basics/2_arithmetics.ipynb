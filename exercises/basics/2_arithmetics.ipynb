{
 "cells": [
  {
   "metadata": {},
   "cell_type": "markdown",
   "source": [
    "### Exercise 2: Basic Arithmetic Operators\n",
    "Given two numbers, perform calculations using +, -, *, /, //, %, and **. "
   ],
   "id": "3a153f02800bd73a"
  },
  {
   "metadata": {},
   "cell_type": "code",
   "source": [
    "num1 = 15\n",
    "num2 = 4\n",
    "\n",
    "add_result =\n",
    "sub_result =\n",
    "mul_result =\n",
    "div_result =\n",
    "floor_div_result =\n",
    "mod_result =\n",
    "pow_result ="
   ],
   "id": "2092891cdc74a8db",
   "outputs": [],
   "execution_count": null
  },
  {
   "metadata": {},
   "cell_type": "markdown",
   "source": "This cell checks whether your arithmetic results are correct.",
   "id": "98b6c004dd5a785"
  },
  {
   "metadata": {},
   "cell_type": "code",
   "source": [
    "assert add_result == num1 + num2, f\"add_result should be {num1 + num2}, got {add_result}\"\n",
    "assert sub_result == num1 - num2, f\"sub_result should be {num1 - num2}, got {sub_result}\"\n",
    "assert mul_result == num1 * num2, f\"mul_result should be {num1 * num2}, got {mul_result}\"\n",
    "assert abs(div_result - (num1 / num2)) < 1e-9, f\"div_result should be {num1 / num2}, got {div_result}\"\n",
    "assert floor_div_result == num1 // num2, f\"floor_div_result should be {num1 // num2}, got {floor_div_result}\"\n",
    "assert mod_result == num1 % num2, f\"mod_result should be {num1 % num2}, got {mod_result}\"\n",
    "assert pow_result == num1 ** num2, f\"pow_result should be {num1 ** num2}, got {pow_result}\"\n",
    "\n",
    "print(\"✅ All arithmetic operations are correct!\")"
   ],
   "id": "b570b31db3242519",
   "outputs": [],
   "execution_count": null
  }
 ],
 "metadata": {
  "kernelspec": {
   "display_name": "Python 3",
   "language": "python",
   "name": "python3"
  },
  "language_info": {
   "codemirror_mode": {
    "name": "ipython",
    "version": 2
   },
   "file_extension": ".py",
   "mimetype": "text/x-python",
   "name": "python",
   "nbconvert_exporter": "python",
   "pygments_lexer": "ipython2",
   "version": "2.7.6"
  }
 },
 "nbformat": 4,
 "nbformat_minor": 5
}
