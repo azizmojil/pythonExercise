{
 "cells": [
  {
   "metadata": {},
   "cell_type": "markdown",
   "source": [
    "### Exercise 15: Sets\n",
    "Given two sets, perform the following operations; union, intersection, and difference. Next, modify set_a in-place by adding 6 and removing 2."
   ],
   "id": "42591f9450c5566d"
  },
  {
   "metadata": {},
   "cell_type": "code",
   "outputs": [],
   "execution_count": null,
   "source": [
    "set_a = {1, 2, 3}\n",
    "set_b = {3, 4, 5}\n",
    "\n",
    "\n",
    "## YOUR CODE HERE ##\n",
    "\n",
    "\n",
    "modified_set = set_a\n",
    "\n",
    "print(\"Union:\", union_set)\n",
    "print(\"Intersection:\", intersection_set)\n",
    "print(\"Difference:\", difference_set)\n",
    "print(\"Modified set_a:\", modified_set)\n"
   ],
   "id": "2b5858915aa3d150"
  },
  {
   "metadata": {},
   "cell_type": "markdown",
   "source": "This cell verifies that's you've made the operations and modifications correctly.",
   "id": "a68577c4fd6fecd6"
  },
  {
   "metadata": {},
   "cell_type": "code",
   "outputs": [],
   "execution_count": null,
   "source": [
    "assert union_set == {1, 2, 3, 4, 5}, f\"union_set should be {{1,2,3,4,5}}, got {union_set}\"\n",
    "assert intersection_set == {3}, f\"intersection_set should be {{3}}, got {intersection_set}\"\n",
    "assert difference_set == {1, 2}, f\"difference_set should be {{1,2}}, got {difference_set}\"\n",
    "assert modified_set == {1, 3, 6}, f\"modified_set should be {{1,3,6}}, got {modified_set}\"\n",
    "print(\"✅ Set operations and modifications are correct!\")"
   ],
   "id": "2d666a965dfb44a9"
  }
 ],
 "metadata": {
  "kernelspec": {
   "display_name": "Python 3",
   "language": "python",
   "name": "python3"
  },
  "language_info": {
   "codemirror_mode": {
    "name": "ipython",
    "version": 2
   },
   "file_extension": ".py",
   "mimetype": "text/x-python",
   "name": "python",
   "nbconvert_exporter": "python",
   "pygments_lexer": "ipython2",
   "version": "2.7.6"
  }
 },
 "nbformat": 4,
 "nbformat_minor": 5
}
